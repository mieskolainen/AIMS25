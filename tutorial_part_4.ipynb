{
 "cells": [
  {
   "cell_type": "markdown",
   "id": "e7f3a20c-8504-428d-950f-e2856c8a9e75",
   "metadata": {},
   "source": [
    "# Synthetic Quantum Electrodynamics via Generative AI\n",
    "# Part IV/V -- Amortized Bayesian Posterior\n",
    "\n",
    "$\n",
    "\\large\n",
    "\\text{Mikael Mieskolainen}\n",
    "$\n",
    "\n",
    "$\n",
    "\\text{Department of Physics and I-X Centre for AI in Science, Imperial College London}\n",
    "$\n",
    "\n",
    "$\n",
    "\\tiny\n",
    "\\texttt{m.mieskolainen@imperial.ac.uk}\n",
    "$\n",
    "\n",
    "<a href=\"https://github.com/mieskolainen\">github.com/mieskolainen</a>\n",
    "\n",
    "<br>\n",
    "\n",
    "$\n",
    "\\text{May, 2025}\n",
    "$\n",
    "\n",
    "**Abstract**\n",
    "\n",
    "In this part we do a Bayesian parameter inference with generative AI, by using *direct amortization* of the Bayesian Posterior $p(\\theta \\mid \\mathbf{x})$. This topic is also known as Simulation Based Inference. Amortized inference offloads the heavy computation to the training stage and inference is fast. The cutting-edge developments on this field are related to e.g. parametrically post-training replaceable Bayesian priors, and gaining access to both $\\mathbf{x} \\sim p(\\mathbf{x} \\mid \\theta)$ and posterior samples $\\theta \\sim p(\\theta \\mid \\mathbf{x})$ from the same **unified** generative model.\n",
    "\n",
    "<br>\n",
    "<br>\n",
    "\n",
    "**Outline:**\n",
    "\n",
    "- [Part I: Physics Theory](tutorial_part_1.ipynb)\n",
    "- [Part II: AI Theory](tutorial_part_2.ipynb)\n",
    "- [Part III: Surrogate Simulator](tutorial_part_3.ipynb)\n",
    "- [Part IV: Amortized Bayesian Posterior](tutorial_part_4.ipynb)\n",
    "- [Part V: Deep Inverse Problems](tutorial_part_5.ipynb)\n",
    "\n",
    "<br>\n",
    "\n",
    "<div style=\"display: flex; flex-wrap: wrap; justify-content: space-between; gap: 10px;\">\n",
    "  <img src=\"img/scattering_simulation.jpeg\" style=\"width: 49%; height: auto;\">\n",
    "  <img src=\"img/OU_simulation.jpeg\" style=\"width: 49%; height: auto;\">\n",
    "</div>\n",
    "\n",
    "> **Compatibility: Use VSCode with Jupyter extension (better LaTex rendering) or JupyterLab. Hit refresh [F5] if the notebook freezes.**\n"
   ]
  },
  {
   "cell_type": "code",
   "execution_count": 1,
   "id": "c8bae18f-99e0-4a3d-a48b-1cf0ecd77dd9",
   "metadata": {},
   "outputs": [],
   "source": [
    "%load_ext autoreload\n",
    "%autoreload 2"
   ]
  },
  {
   "cell_type": "code",
   "execution_count": 2,
   "id": "6e2b6900-fc93-4d8e-9314-b60d00d75267",
   "metadata": {},
   "outputs": [],
   "source": [
    "# Run this first if using Colab\n",
    "\"\"\"\n",
    "!git clone https://github.com/mieskolainen/AIMS25.git\n",
    "%cd AIMS25\n",
    "\"\"\"\n",
    "import sys\n",
    "sys.path.append('./xaims')\n",
    "\n",
    "# !pip install -r requirements.txt"
   ]
  },
  {
   "cell_type": "code",
   "execution_count": 3,
   "id": "819c4f8f-a7dd-4e10-bd69-c25ae1491fd9",
   "metadata": {},
   "outputs": [
    {
     "name": "stdout",
     "output_type": "stream",
     "text": [
      "Sat May 17 03:36:59 2025       \n",
      "+-----------------------------------------------------------------------------+\n",
      "| NVIDIA-SMI 525.125.06   Driver Version: 525.125.06   CUDA Version: 12.0     |\n",
      "|-------------------------------+----------------------+----------------------+\n",
      "| GPU  Name        Persistence-M| Bus-Id        Disp.A | Volatile Uncorr. ECC |\n",
      "| Fan  Temp  Perf  Pwr:Usage/Cap|         Memory-Usage | GPU-Util  Compute M. |\n",
      "|                               |                      |               MIG M. |\n",
      "|===============================+======================+======================|\n",
      "|   0  NVIDIA A100-SXM...  On   | 00000000:17:00.0 Off |                    0 |\n",
      "| N/A   31C    P0    71W / 500W |   7123MiB / 81920MiB |      0%      Default |\n",
      "|                               |                      |             Disabled |\n",
      "+-------------------------------+----------------------+----------------------+\n",
      "|   1  NVIDIA A100-SXM...  On   | 00000000:31:00.0 Off |                    0 |\n",
      "| N/A   31C    P0    60W / 500W |      3MiB / 81920MiB |      0%      Default |\n",
      "|                               |                      |             Disabled |\n",
      "+-------------------------------+----------------------+----------------------+\n",
      "|   2  NVIDIA A100-SXM...  On   | 00000000:B1:00.0 Off |                    0 |\n",
      "| N/A   29C    P0    59W / 500W |      3MiB / 81920MiB |      0%      Default |\n",
      "|                               |                      |             Disabled |\n",
      "+-------------------------------+----------------------+----------------------+\n",
      "|   3  NVIDIA A100-SXM...  On   | 00000000:CA:00.0 Off |                    0 |\n",
      "| N/A   32C    P0    58W / 500W |      3MiB / 81920MiB |      0%      Default |\n",
      "|                               |                      |             Disabled |\n",
      "+-------------------------------+----------------------+----------------------+\n",
      "                                                                               \n",
      "+-----------------------------------------------------------------------------+\n",
      "| Processes:                                                                  |\n",
      "|  GPU   GI   CI        PID   Type   Process name                  GPU Memory |\n",
      "|        ID   ID                                                   Usage      |\n",
      "|=============================================================================|\n",
      "|    0   N/A  N/A   1707618      C   ...envs/supraflow/bin/python     1424MiB |\n",
      "|    0   N/A  N/A   1712415      C   ...envs/supraflow/bin/python     1424MiB |\n",
      "|    0   N/A  N/A   1717183      C   ...envs/supraflow/bin/python     1424MiB |\n",
      "|    0   N/A  N/A   1802371      C   ...envs/supraflow/bin/python     1424MiB |\n",
      "|    0   N/A  N/A   1841517      C   ...envs/supraflow/bin/python     1424MiB |\n",
      "+-----------------------------------------------------------------------------+\n",
      "Using device: cuda:0\n"
     ]
    }
   ],
   "source": [
    "import numpy as np\n",
    "import torch\n",
    "import torch.optim as optim\n",
    "\n",
    "# For reproducibility\n",
    "seed = 42\n",
    "np.random.seed(seed)\n",
    "torch.manual_seed(seed)\n",
    "\n",
    "# Use device: GPU if available\n",
    "if torch.cuda.is_available():\n",
    "    device = torch.device(\"cuda:0\")\n",
    "    !nvidia-smi\n",
    "else:\n",
    "    device = torch.device(\"cpu\")\n",
    "\n",
    "print(\"Using device:\", device)"
   ]
  },
  {
   "cell_type": "markdown",
   "id": "372dd308",
   "metadata": {},
   "source": [
    "<br>\n",
    "\n",
    "---\n",
    "## Generate Training Data\n",
    "\n",
    "As before, we generate training data with the QED Monte Carlo event generator."
   ]
  },
  {
   "cell_type": "code",
   "execution_count": 4,
   "id": "6085ee72",
   "metadata": {},
   "outputs": [
    {
     "name": "stdout",
     "output_type": "stream",
     "text": [
      "Training data: data shape =  torch.Size([100000, 3]) param shape =  torch.Size([100000, 1])\n"
     ]
    }
   ],
   "source": [
    "from xaims import qedgen\n",
    "\n",
    "# -------------------------------------------------------------------------------------------\n",
    "total_events   = int(1e5)  # total number of events\n",
    "n_sets         = int(100)  # how many simulated event sets\n",
    "n_events_per_s = int(total_events / n_sets)\n",
    "# -------------------------------------------------------------------------------------------\n",
    "\n",
    "mc_events     = []\n",
    "mc_conditions = []\n",
    "\n",
    "# -------------------------------------------------------------------------------------------\n",
    "# Fiducial cut of our detector (geometric acceptance)\n",
    "\n",
    "theta_min_fiducial = np.deg2rad(5.0)    # all functions use radians\n",
    "theta_max_fiducial = np.deg2rad(175.0)\n",
    "\n",
    "for i in range(n_sets):\n",
    "    \n",
    "    # -------------------------------------------------------------------------------------------\n",
    "    # We amortize prior here\n",
    "    \n",
    "    # ** Option 1: Uniform prior P(theta) **\n",
    "    sqrts = np.random.uniform(1.0, 2.0) \n",
    "    \n",
    "    # ** Option 2: Log-normal prior P(theta) **\n",
    "    #mu, sigma, shift = -0.8181, 0.5, 1.0 # Target with mean = 1.5, X >= 1 solved parameters\n",
    "    #sqrts = shift + np.random.lognormal(mean=mu, sigma=sigma, size=1)[0]\n",
    "    # -------------------------------------------------------------------------------------------\n",
    "    \n",
    "    s     = sqrts**2\n",
    "    \n",
    "    # Map angular cuts to Mandelstam t\n",
    "    #\n",
    "    t_min = qedgen.costheta_to_t(costheta=np.cos(theta_max_fiducial), s=s)\n",
    "    t_max = qedgen.costheta_to_t(costheta=np.cos(theta_min_fiducial), s=s)\n",
    "    t_min = max(t_min, -(s - 4*qedgen.m_e**2)) # kinematic limit\n",
    "    \n",
    "    # Generate events\n",
    "    x_gen, xs, xs_err, unweight_eff = \\\n",
    "        qedgen.generator(num_events=n_events_per_s, sqrts=sqrts, t_min=t_min, t_max=t_max, theory=qedgen.Mode.QED_bhabha)\n",
    "    \n",
    "    mc_events.append(x_gen)\n",
    "    mc_conditions.append(np.full((n_events_per_s, 1), sqrts)) # we use sqrts scale\n",
    "\n",
    "mc_events = np.concatenate(mc_events, axis=0)\n",
    "mc_energy = np.concatenate(mc_conditions, axis=0)\n",
    "\n",
    "# Convert training data to tensors\n",
    "data_tensor  = torch.tensor(mc_events, dtype=torch.float32).to(device)\n",
    "param_tensor = torch.tensor(mc_energy, dtype=torch.float32).to(device)\n",
    "\n",
    "print(\"Training data: data shape = \", data_tensor.shape, \"param shape = \", param_tensor.shape)\n"
   ]
  },
  {
   "cell_type": "markdown",
   "id": "389f6ca3-1b12-4a35-bc2b-5c93fcf734bd",
   "metadata": {},
   "source": [
    "<br>\n",
    "\n",
    "---\n",
    "\n",
    "## Neural Network Training\n"
   ]
  },
  {
   "cell_type": "markdown",
   "id": "9bd4fdd6",
   "metadata": {},
   "source": [
    "### Preprocessing transforms"
   ]
  },
  {
   "cell_type": "code",
   "execution_count": 5,
   "id": "cf4dbf1a",
   "metadata": {},
   "outputs": [],
   "source": [
    "from xaims import transforms\n",
    "\n",
    "# We will learn posterior pdf(param | data) ~ pdf(data | param) x prior(param)\n",
    "#\n",
    "\n",
    "# -------------------------------------------------------------------\n",
    "# Flow space (parameter space)\n",
    "\n",
    "# Standardization transform\n",
    "zscore_map_param = transforms.ZScoreTransform(\n",
    "                        param_tensor.mean(dim=0, keepdim=True),\n",
    "                        param_tensor.std(dim=0, keepdim=True)).to(device)\n",
    "param_norm = zscore_map_param.forward(param_tensor)\n",
    "\n",
    "pre_transform_param = transforms.CompositeTransform([zscore_map_param]).to(device)\n",
    "# -------------------------------------------------------------------\n",
    "\n",
    "# -------------------------------------------------------------------\n",
    "# Conditional space (data space)\n",
    "\n",
    "# Physics transform\n",
    "geom_map_data = transforms.PhysicsTransform(transverse_mode='pt', longitudinal_mode='pz').to(device)\n",
    "data_norm     = geom_map_data.forward(data_tensor)\n",
    "\n",
    "# Standardization transform\n",
    "zscore_map_data = transforms.ZScoreTransform(data_norm.mean(dim=0, keepdim=True),\n",
    "                                             data_norm.std(dim=0, keepdim=True)).to(device)\n",
    "data_norm = zscore_map_data.forward(data_norm)\n",
    "\n",
    "pre_transform_data = transforms.CompositeTransform([geom_map_data, zscore_map_data]).to(device)\n",
    "# -------------------------------------------------------------------\n",
    "\n",
    "data_dim   = data_norm.shape[-1]\n",
    "param_dim  = param_norm.shape[-1]\n"
   ]
  },
  {
   "cell_type": "markdown",
   "id": "81364208",
   "metadata": {},
   "source": [
    "### Train Amortized Bayesian Posterior with SDE diffusion\n",
    "\n",
    "We learn now a SDE diffusion model for the posterior, such that we can sample $\\theta \\sim p(\\theta \\mid \\mathbf{x})$, conditional on the measured event, and evaluate the posterior pdf values.\n"
   ]
  },
  {
   "cell_type": "code",
   "execution_count": 6,
   "id": "a8962605",
   "metadata": {},
   "outputs": [
    {
     "name": "stdout",
     "output_type": "stream",
     "text": [
      "Number of model parameters: 1.9E+04\n"
     ]
    },
    {
     "name": "stderr",
     "output_type": "stream",
     "text": [
      "Training: 100%|████████████████████████████████████████████████████████████████████████████████████████████████████████████████| 40/40 [00:52<00:00,  1.32s/epoch, train_loss=0.0063, lr=0.001000, val_loss=0.0101]\n"
     ]
    },
    {
     "data": {
      "image/png": "[encoded data removed]",
      "text/plain": [
       "<Figure size 1200x500 with 2 Axes>"
      ]
     },
     "metadata": {},
     "output_type": "display_data"
    }
   ],
   "source": [
    "from xaims import sde, aux, visualize\n",
    "\n",
    "lr           = 1e-3\n",
    "weight_decay = 1e-3\n",
    "\n",
    "n_epochs   = 40\n",
    "batch_size = 256\n",
    "\n",
    "train_loader, val_loader = aux.split_loaders(param_norm, data_norm, frac=0.8, batch_size=batch_size)\n",
    "\n",
    "# SDE model\n",
    "time_embed_dim = 8\n",
    "model_sde = sde.SDEModel(\n",
    "    sde      = sde.VPSDE(beta_0=0.1, beta_1=20.0), \n",
    "    x_dim    = param_dim,\n",
    "    cond_dim = data_dim,\n",
    "    loss_weighting = False,\n",
    "    nnet     = aux.ResidualMLP(in_dim=param_dim + time_embed_dim + data_dim, out_dim=param_dim,\n",
    "                           **{\"hidden_dim\": [128, 128], \"layer_norm\": True, \"act\": \"silu\", \"dropout\": 0}),\n",
    "    time_embed_dim = time_embed_dim\n",
    ").to(device)\n",
    "\n",
    "# Optimizer and scheduler\n",
    "optimizer_sde = optim.AdamW(model_sde.parameters(), lr=lr, weight_decay=weight_decay)\n",
    "scheduler_sde = optim.lr_scheduler.ReduceLROnPlateau(optimizer_sde, 'min', factor=0.5, patience=10, min_lr=1e-5)\n",
    "\n",
    "# Returns the best validation loss model\n",
    "losses_sde, model_sde = aux.train_wrapper(model=model_sde, optimizer=optimizer_sde, scheduler=scheduler_sde,\n",
    "                                  train_loader=train_loader, val_loader=val_loader, n_epochs=n_epochs)\n",
    "\n",
    "fix,axs = visualize.plot_losses(train_losses=losses_sde[0], val_losses=losses_sde[1])\n"
   ]
  },
  {
   "cell_type": "markdown",
   "id": "4ffd69fe",
   "metadata": {},
   "source": [
    "<br>\n",
    "\n",
    "---\n",
    "## Bayesian Inference\n",
    "\n",
    "### Sampling\n",
    "We apply the trained AI model to a data sample $\\mathcal{D} = \\{\\mathbf{x}_1, \\mathbf{x}_2, \\ldots, \\mathbf{x}_N\\}$. Because the events are independent and identically distributed (iid), we sample the parameter $\\theta$ posterior values per event $\\mathbf{x}_i$ multiple times to obtain smooth distributions, and finally concatenate all the samples. **Credibility Intervals** representing the uncertainty of our parameters are obtained by sample percentiles.\n",
    "\n",
    "### PDF evaluation\n",
    "Evaluating the posterior PDF goes as follows. We evaluate log posterior values for a finite grid of $\\theta$ values on the real line, a number of $n_P$ points in total, and sum the log density values\n",
    "\n",
    "$\n",
    "\\log p(\\theta_k \\mid \\mathcal{D}) = \\sum_{i=1}^N \\log p(\\theta_k \\mid \\mathbf{x}_i), \\quad \\forall k = 1, \\dots, n_P.\n",
    "$\n",
    "\n",
    "Finally, we exponentiate to recover the posterior.\n",
    "\n",
    "\n",
    "### Multiple parameters of interest\n",
    "\n",
    "This is a typical case in practise, see more information below.\n",
    "\n",
    "<details>\n",
    "<summary><span style=\"color: red\">Technical details (expand)</span></summary>\n",
    "\n",
    "<br>\n",
    "\n",
    "In many cases, the parameter is a vector $\\theta = (\\theta_1, \\theta_2, \\dots)$, representing multiple parameters of interest (either true parameters of interest, or 'nuisance'). The basic logic does not change from the 1D dimensional case above, when we are Bayesian. However, when dealing with multiple parameters, there is a key **conceptual difference** between Bayesian and Frequentist approaches.\n",
    "\n",
    "#### Bayesian\n",
    "\n",
    "Bayesians **marginalize** over other parameters by integrating them out of the posterior\n",
    "\n",
    "$\n",
    "p(\\theta_1 \\mid \\mathcal{D}) = \\int p(\\theta_1, \\theta_2, \\dots \\theta_N \\mid \\mathcal{D}) \\, d\\theta_2 d\\theta_3 \\cdots \\theta_N.\n",
    "$\n",
    "\n",
    "In sample-based Bayesian methods (here, MCMC, ...), marginalization is automatic. Integration is approximated by the empirical distribution of the samples. When instead explicitly evaluating the posterior PDF, we need to manually take care of the integration.\n",
    "\n",
    "#### Frequentist\n",
    "\n",
    "Frequentists **profile** other parameters by optimizing (maximizing) the log-likelihood with respect to them for each value of the parameter of interest.\n",
    "\n",
    "$\n",
    "\\log L_{\\text{profile}}(\\theta_1; \\mathcal{D}) = \\max_{\\theta_2, \\theta_3, \\dots} \\log L(\\theta_1, \\theta_2, \\dots, \\theta_N; \\mathcal{D}),\n",
    "$\n",
    "\n",
    "which is typically done with a minimization algorithm with a negative log-likelihood. Most expensive part is typically the confidence interval construction, done by inverting a (profile) **likelihood ratio test** which allows to use the Wilks theorem $\\chi^2$ asymptotics based thresholds or alternatively, by using expensive \"toy Monte Carlo\" and the fundamental Neyman construction. This procedure is needed because the frequentist confidence intervals are conceptually different than Bayesian credibility intervals.\n",
    "\n",
    "#### Challenge for Frequentists\n",
    "\n",
    "Key challenge of creating frequentist SBI methods is related to the fact that the log-likelihood **function** for a dataset is\n",
    "\n",
    "$\n",
    "\\log \\, L(\\theta; \\mathcal{D}) = \\sum_{i=1} \\log p(\\mathbf{x}_i | \\theta),\n",
    "$\n",
    "\n",
    "which treats $\\theta$ as the argument by construction and data $\\mathcal{D}$ as fixed. **It is not a density for $\\theta$** and thus has no integral normalization over $\\theta$. With $p(\\mathbf{x} \\mid \\theta)$ learned using the generative AI model, we can only evaluate the density as a function of $\\mathbf{x}$ or sample $\\mathbf{x} \\sim p(\\mathbf{x} \\mid \\theta)$. The solution in essence would require **amortization of the Neyman construction**, which is the challenge.\n",
    "\n",
    "</details>\n"
   ]
  },
  {
   "cell_type": "markdown",
   "id": "9bc3d831-2a81-4969-bca1-5c53cec9433c",
   "metadata": {},
   "source": [
    "## Generate test data\n",
    "\n",
    "We generate a new data sample here with QED MC generator for some $\\sqrt{s}$ value, which is our parameter of interest.\n"
   ]
  },
  {
   "cell_type": "code",
   "execution_count": 7,
   "id": "827633bd-9c4b-48f6-ba19-b6d64097c984",
   "metadata": {},
   "outputs": [
    {
     "name": "stdout",
     "output_type": "stream",
     "text": [
      "QED (MC): 97.0 kHz\n",
      "torch.Size([1000, 3])\n"
     ]
    }
   ],
   "source": [
    "from tqdm import tqdm\n",
    "from time import time\n",
    "\n",
    "from xaims import qedgen\n",
    "\n",
    "num_events = 1000\n",
    "\n",
    "# Test value to be infered\n",
    "# (should be within reasonable range of the prior distribution)\n",
    "sqrts_test = 1.65  # GeV\n",
    "s_test     = sqrts_test**2\n",
    "\n",
    "# Compute t-limits\n",
    "t_min = qedgen.costheta_to_t(costheta=np.cos(theta_max_fiducial), s=s_test)\n",
    "t_max = qedgen.costheta_to_t(costheta=np.cos(theta_min_fiducial), s=s_test)\n",
    "t_min = max(t_min, -(s_test - 4*qedgen.m_e**2)) # kinematic limit\n",
    "\n",
    "tic = time()\n",
    "mc_sbi, xs_tot, xs_err, unweight_eff = \\\n",
    "    qedgen.generator(num_events=num_events, sqrts=sqrts_test, t_min=t_min, t_max=t_max, theory=qedgen.Mode.QED_bhabha)\n",
    "\n",
    "print(f\"QED (MC): {num_events / (time() - tic) / 1000:0.1f} kHz\")\n",
    "\n",
    "# To torch tensor\n",
    "test_data = torch.as_tensor(mc_sbi, dtype=torch.float32, device=device)\n",
    "print(test_data.shape)\n"
   ]
  },
  {
   "cell_type": "markdown",
   "id": "e6fab84e-5d6a-4eb1-b1d6-191906b4568d",
   "metadata": {},
   "source": [
    "## Sampling from the posterior\n",
    "\n",
    "We proceed now as described."
   ]
  },
  {
   "cell_type": "code",
   "execution_count": 8,
   "id": "0059cf47-8a75-459b-9852-a9e009ee9ff4",
   "metadata": {},
   "outputs": [],
   "source": [
    "from xaims import aux\n",
    "\n",
    "## Sampling wrapper\n",
    "def sample_from_sde(num_samples: int, cond: torch.Tensor, steps: int=1000, use_ode: bool=False, EPS: float=None, device='cpu'):\n",
    "    \n",
    "    model_sde.eval() #!\n",
    "    \n",
    "    with torch.no_grad():\n",
    "        #cond = aux.expand_dim(cond, num_samples=num_samples, device=device) # Expand batch dimensions\n",
    "        cond_norm = pre_transform_data.forward(cond) # Forward processing\n",
    "        \n",
    "        param = model_sde.sample(num_samples, cond=cond_norm, steps=steps, use_ode=use_ode, EPS=EPS)\n",
    "        samples = pre_transform_param.reverse(param) # Revert pre-processing\n",
    "    \n",
    "    return samples\n",
    "\n",
    "# Posterior pdf evaluator\n",
    "def logprob_sde(param: torch.Tensor, data: torch.Tensor, steps: int=1000, exact: bool=True, EPS: float=None, n_hutchinson: int=5, device='cpu'):\n",
    "    \n",
    "    model_sde.eval() #!\n",
    "    \n",
    "    with torch.no_grad():\n",
    "        param         = aux.expand_dim(param, num_samples=data.shape[0], device=device) # Expand batch dimensions        \n",
    "        param_norm, ldj_param = pre_transform_param.forward(param, return_logdet=True)\n",
    "        data_norm     = pre_transform_data.forward(data) # Forward processing\n",
    "        \n",
    "        log_prob      = model_sde.log_prob(param_norm, cond=data_norm, steps=steps, exact=exact, n_hutchinson=n_hutchinson, EPS=EPS)\n",
    "        log_prob     += ldj_param # Add jacobian of pre-transform\n",
    "    \n",
    "    return log_prob\n"
   ]
  },
  {
   "cell_type": "code",
   "execution_count": 9,
   "id": "188c61de-290a-4805-af00-069254ab54d1",
   "metadata": {},
   "outputs": [
    {
     "name": "stderr",
     "output_type": "stream",
     "text": [
      "100%|████████████████████████████████████████████████████████████████████████████████████████████████████████████████████████████████████████████████████████████████████████████████| 5/5 [00:02<00:00,  1.71it/s]\n",
      "100%|████████████████████████████████████████████████████████████████████████████████████████████████████████████████████████████████████████████████████████████████████████████████| 5/5 [00:02<00:00,  2.01it/s]\n"
     ]
    }
   ],
   "source": [
    "## Collect posterior samples for the full dataset K times\n",
    "\n",
    "K = 5 # Larger the better\n",
    "\n",
    "## SDE sampler\n",
    "sde_samples = []\n",
    "for _ in tqdm(range(K)):\n",
    "    sde_samples.append(sample_from_sde(test_data.shape[0], cond=test_data, device=device, use_ode=False))\n",
    "\n",
    "# Concatenate\n",
    "sde_samples = torch.cat(sde_samples, dim=0).cpu().numpy()\n",
    "\n",
    "# -----------------------------------\n",
    "\n",
    "## ODE sampler\n",
    "ode_samples = []\n",
    "for _ in tqdm(range(K)):\n",
    "    ode_samples.append(sample_from_sde(test_data.shape[0], cond=test_data, device=device, use_ode=True))\n",
    "\n",
    "# Concatenate\n",
    "ode_samples = torch.cat(ode_samples, dim=0).cpu().numpy()\n"
   ]
  },
  {
   "cell_type": "markdown",
   "id": "04ab7635-b881-4ba7-8cb2-90d611f7dc3e",
   "metadata": {},
   "source": [
    "## Evaluating Posterior PDF\n",
    "\n",
    "This works by using the infitesimal change of variables ODE formulation, i.e. the vector field divergence.\n"
   ]
  },
  {
   "cell_type": "code",
   "execution_count": 17,
   "id": "ef3ce23a-43b3-4085-918a-d8fe071944c5",
   "metadata": {},
   "outputs": [],
   "source": [
    "## Wrapper for intervals and point stats\n",
    "\n",
    "def wrapper(x, alpha=5.0):\n",
    "    med   = np.median(x)\n",
    "    lo    = med - np.percentile(x, alpha/2)\n",
    "    hi    = np.percentile(x, 100 - alpha/2) - med\n",
    "    return med, lo, hi\n"
   ]
  },
  {
   "cell_type": "code",
   "execution_count": 18,
   "id": "ed299926-bad4-4829-982c-18f48dcbfe1e",
   "metadata": {},
   "outputs": [
    {
     "name": "stderr",
     "output_type": "stream",
     "text": [
      "100%|██████████████████████████████████████████████████████████████████████████████████████████████████████████████████████████████████████████████████████████████████████████████| 20/20 [00:27<00:00,  1.38s/it]\n"
     ]
    }
   ],
   "source": [
    "## Compute log-posterior values using the probability flow divergence equation\n",
    "\n",
    " # Use samples to get a good parameter interval to evaluate\n",
    "med, lo, hi = wrapper(ode_samples, alpha=32) # 1 sigma ~ 68CR\n",
    "\n",
    "n_points     = 20\n",
    "param_points = np.linspace(med - lo * 5, med + hi * 5, n_points)\n",
    "log_prob     = np.zeros(n_points)\n",
    "\n",
    "for i in tqdm(range(len(param_points))):\n",
    "    log_prob[i] = logprob_sde(param=param_points[i], data=test_data, device=device).mean().cpu().numpy()\n",
    "\n",
    "posterior = np.exp(log_prob)\n"
   ]
  },
  {
   "cell_type": "markdown",
   "id": "c4400c42-dfed-4d77-b090-b8d678a28841",
   "metadata": {},
   "source": [
    "## Visualize results\n",
    "\n",
    "Now we compare different approaches."
   ]
  },
  {
   "cell_type": "code",
   "execution_count": 19,
   "id": "0d7fea48-7e50-462d-ae12-93faef35ce3e",
   "metadata": {},
   "outputs": [
    {
     "data": {
      "image/png": "[encoded data removed]",
      "text/plain": [
       "<Figure size 640x480 with 1 Axes>"
      ]
     },
     "metadata": {},
     "output_type": "display_data"
    }
   ],
   "source": [
    "import scipy.interpolate\n",
    "import numpy as np\n",
    "import matplotlib.pyplot as plt\n",
    "\n",
    "fig, ax = plt.subplots()\n",
    "\n",
    "nbins = 100\n",
    "\n",
    "# -------------------------------------------------\n",
    "# PDF values\n",
    "\n",
    "I = np.trapezoid(x=param_points, y=posterior)\n",
    "\n",
    "# Create interpolation function for better results\n",
    "interp_posterior = scipy.interpolate.interp1d(param_points, posterior/I, kind=\"cubic\", \n",
    "                                             bounds_error=False, fill_value=0)\n",
    "\n",
    "x = np.linspace(param_points[0], param_points[-1], 200)\n",
    "plt.plot(x, interp_posterior(x), 'k-', label='ODE divergence Eq. (Euler)')\n",
    "# -------------------------------------------------\n",
    "\n",
    "\n",
    "# Set Posterior Credibility Intervals (CR68, CR95 ...) level\n",
    "alpha = (1 - 0.95) * 100\n",
    "\n",
    "# -------------------------------------------------\n",
    "# SDE sampler\n",
    "\n",
    "med, lo, hi = wrapper(sde_samples, alpha=alpha)\n",
    "bins  = np.linspace(med - lo * 2, med + hi * 2, nbins)\n",
    "label = f\"$\\\\hat{{\\\\theta}} = {med:.2f}^{{+{hi:.2f}}}_{{-{lo:.2f}}} \\\\; \\\\mathrm{{(CR{100-alpha:0.0f})}}$ (SDE samples - Euler-Muryama)\"\n",
    "\n",
    "plt.hist(sde_samples, bins=bins, density=True, histtype='step', label=label)\n",
    "plt.xlim([med - lo * 2, med + hi * 2])\n",
    "\n",
    "# -------------------------------------------------\n",
    "# ODE sampler\n",
    "\n",
    "med, lo, hi = wrapper(ode_samples, alpha=alpha)\n",
    "bins  = np.linspace(med - lo * 2, med + hi * 2, nbins)\n",
    "label = f\"$\\\\hat{{\\\\theta}} = {med:.2f}^{{+{hi:.2f}}}_{{-{lo:.2f}}} \\\\; \\\\mathrm{{(CR{100-alpha:0.0f})}}$ (ODE samples - Euler)\"\n",
    "# -------------------------------------------------\n",
    "\n",
    "plt.hist(ode_samples, bins=bins, density=True, histtype='step', label=label)\n",
    "plt.xlim([med - lo * 2, med + hi * 2])\n",
    "plt.xlim([med - lo * 2, med + hi * 2])\n",
    "plt.ylim([0, None])\n",
    "plt.xlabel('$\\\\theta = \\\\sqrt{s}$')\n",
    "plt.ylabel('Posterior $p(\\\\theta|X)$')\n",
    "plt.legend(bbox_to_anchor=(0.5, -0.15), loc='upper center')\n",
    "plt.subplots_adjust(bottom=0.2)\n",
    "\n",
    "plt.show()\n"
   ]
  },
  {
   "cell_type": "markdown",
   "id": "19a18117-6406-4b36-9a6a-60f3695f661c",
   "metadata": {},
   "source": [
    "**Note**: The posterior density seems very narrow (but perhaps with fat tails ...) because there are no detector effects included (see Notebook 5), and the parameter we want to estimate (center-of-mass energy) is actually directly linked to what we measure."
   ]
  },
  {
   "cell_type": "markdown",
   "id": "4e9f6dd3-72d1-4640-94a3-42c70137bdf2",
   "metadata": {},
   "source": [
    "<br>\n",
    "\n",
    "---\n",
    "## ** Exercise: Bayesian evidence **\n",
    "\n",
    "Directly amortized posterior inference does not give access to the Bayesian evidence term $p(\\mathbf{x})$, without some additional effort. However, in the previous notebook we learned the data density $p(x|\\theta)$, and combining both can be key. Start with the Bayes formula\n",
    "\n",
    "$\n",
    "p(\\theta \\mid \\mathbf{x}) = \\frac{p(\\mathbf{x} \\mid \\theta) p(\\theta)}{p(\\mathbf{x})} = \\frac{p(\\mathbf{x} \\mid \\theta) p(\\theta)}{\\int p(\\mathbf{x} \\mid \\theta) p(\\theta) d\\theta}.\n",
    "$\n",
    "\n",
    "**Task 1**: Write down the evidence in terms of the posterior, the data density (likelihood) and the prior, and give a generic formula for the full i.i.d dataset evidence $p(D)$ using log densities."
   ]
  },
  {
   "cell_type": "code",
   "execution_count": 13,
   "id": "f3ff3b13-9d45-4cae-a784-e688fee424e0",
   "metadata": {},
   "outputs": [],
   "source": [
    "# Write here the derivation"
   ]
  },
  {
   "cell_type": "markdown",
   "id": "fb90ec2f-26f6-4eed-a115-5117778029b8",
   "metadata": {},
   "source": [
    "**Task 2**: Give a reason or two why we would need the evidence, i.e. what is it good for?"
   ]
  },
  {
   "cell_type": "code",
   "execution_count": 14,
   "id": "abff0e7e-f24a-4e7c-a1af-e983e6e10dd2",
   "metadata": {},
   "outputs": [],
   "source": [
    "# Write here the reasons"
   ]
  },
  {
   "cell_type": "markdown",
   "id": "7c1064a2-32d3-4aa4-aaba-eeee8623c53e",
   "metadata": {},
   "source": [
    "<br>\n",
    "\n",
    "---\n",
    "## ** Exercise: Simulator based calibration diagnostics of the posterior **\n",
    "\n",
    "**Task 1**: Evaluate posterior calibration using simulations. Sample parameters from the prior, generate data, perform inference, and check whether the true parameter lies within the central posterior credible interval at the chosen level $(1-\\alpha) \\times 100 \\%$. Technically, this defines a frequentist coverage test, which assesses whether credible intervals are correctly sized in a repeated sampling sense. This test complements the Simulation Based Calibration (SBC) rank statistic test which is easy to implement simultaneously, which checks whether the true parameter ranks uniformly among posterior samples. A well calibrated model should produce a uniform rank distribution spanning the full rank range. Together, these tests capture different aspects of inference quality. Compare results for both ODE and SDE sampling methods. \n",
    "\n",
    "| Type | Centering | Dispersion | SBC Rank Histogram Shape                 | Coverage Test |\n",
    "|------|-----------|------------|------------------------------------------|-------------------|\n",
    "|  I   | Unbiased  | Correct    | **Flat uniform** (within full rank range) | Nominal       |\n",
    "| II   | Unbiased  | Too narrow | **U-shaped** (excess counts at the two ends)  | Undercoverage |\n",
    "| III  | Unbiased  | Too wide   | **Peaked at centre** (excess mid-ranks)       | Overcoverage  |\n",
    "| IV   | Biased    | Correct    | **Skewed**       | Undercoverage |\n",
    "|  V   | Biased    | Too narrow | **Skewed + U-shaped**      | Undercoverage |\n",
    "| VI   | Biased    | Too wide   | **Skewed + peaked at centre**   | Overcoverage  |\n",
    "\n",
    "The table above gives expected results for different scenarios, although more complicated cases exist e.g. with multimodal posteriors.\n",
    "\n",
    "**SBC rank test**: <a href=\"https://arxiv.org/abs/1804.06788\">Talts et al., *Validating Bayesian Inference Algorithms with Simulation-Based Calibration*, [arXiv: 1804.06788]</a>\n",
    "\n",
    "**Information:** In order to gain systematic understanding of the impact of the AI model and training parameters, and prior densities $p(\\theta)$, one needs to train models with different setups and evaluate each separately. During evaluation, no model training is involved and same priors are used. Additionally, it may be necessary to introduce resolution effects into the (otherwise perfect) data simulations during both training and evaluation (see Notebook 5), because our parameter of interest $\\theta = \\sqrt{s}$ is a direct kinematic function of the observed event kinematics due to energy–momentum conservation.\n"
   ]
  },
  {
   "cell_type": "code",
   "execution_count": 15,
   "id": "b7ee34d7-8ff4-4058-85e1-2cca61e1256f",
   "metadata": {},
   "outputs": [],
   "source": [
    "# Implement full code here."
   ]
  },
  {
   "cell_type": "markdown",
   "id": "3c298676",
   "metadata": {},
   "source": [
    "<br>\n",
    "\n",
    "---\n",
    "## Check your knowledge\n",
    "\n",
    "1. **What is meant by direct amortization?**\n",
    "2. **How would you implement purely Frequentist parameter inference, i.e. maximum likelihood and confidence intervals?**\n",
    "3. **With SDE diffusion models, why is the sample based approach to the posterior more scalable than using the SDE-ODE probability flow evaluation approach?**\n",
    "4. **In higher parameter $\\theta$-space dimensions, is the sampling actually only feasible approach, cf. Bayesian vs Frequentist?**\n",
    "6. **How do you check the posterior (coverage) is actually properly calibrated, i.e. meaningful?**\n"
   ]
  },
  {
   "cell_type": "code",
   "execution_count": null,
   "id": "da523fd5-a3c0-423b-b1d7-bf8f418a4b72",
   "metadata": {},
   "outputs": [],
   "source": []
  }
 ],
 "metadata": {
  "kernelspec": {
   "display_name": "Python 3 (ipykernel)",
   "language": "python",
   "name": "python3"
  },
  "language_info": {
   "codemirror_mode": {
    "name": "ipython",
    "version": 3
   },
   "file_extension": ".py",
   "mimetype": "text/x-python",
   "name": "python",
   "nbconvert_exporter": "python",
   "pygments_lexer": "ipython3",
   "version": "3.10.11"
  }
 },
 "nbformat": 4,
 "nbformat_minor": 5
}
